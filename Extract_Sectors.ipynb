{
 "cells": [
  {
   "cell_type": "markdown",
   "id": "b5f18da7",
   "metadata": {},
   "source": [
    "Ce notebook télécharge la classification NAICS/SCIAN 2022 (élément v1) à partir de Statistique Canada et le sauvegarde dans le dossier `macroeconomics` en format CSV."
   ]
  },
  {
   "cell_type": "code",
   "execution_count": null,
   "id": "24bfb2e4",
   "metadata": {},
   "outputs": [
    {
     "name": "stdout",
     "output_type": "stream",
     "text": [
      "Fichier téléchargé et sauvegardé dans : macroeconomics/naics_scian_2022.csv\n"
     ]
    }
   ],
   "source": [
    "import os\n",
    "from datetime import datetime\n",
    "import requests\n",
    "\n",
    "# URL du fichier CSV de la classification NAICS/SCIAN 2022 (élément v1)\n",
    "url = \"https://www.statcan.gc.ca/en/statistical-programs/document/naics-scian-2022-element-v1-eng.csv\"\n",
    "\n",
    "# Dossier de destination\n",
    "dossier = \"macroeconomics\"\n",
    "\n",
    "# Récupère la date d'aujourd'hui au format AAAAMMJJ (ex: 20250319)\n",
    "today = datetime.today().strftime('%Y%m%d')\n",
    "\n",
    "# Sépare le nom et l'extension du fichier d'origine\n",
    "base_name, ext = os.path.splitext(\"naics_scian_2022.csv\")\n",
    "\n",
    "# Construit le nouveau nom de fichier en ajoutant la date avant l'extension\n",
    "nom_fichier = f\"{base_name}_{today}{ext}\"\n",
    "\n",
    "# Chemin complet vers le fichier\n",
    "chemin_complet = os.path.join(dossier, nom_fichier)\n",
    "\n",
    "# Création du dossier s'il n'existe pas\n",
    "if not os.path.exists(dossier):\n",
    "    os.makedirs(dossier)\n",
    "\n",
    "# Téléchargement du fichier CSV\n",
    "response = requests.get(url)\n",
    "if response.status_code == 200:\n",
    "    with open(chemin_complet, 'wb') as f:\n",
    "        f.write(response.content)\n",
    "    print(\"Fichier téléchargé et sauvegardé dans :\", chemin_complet)\n",
    "else:\n",
    "    print(\"Erreur lors du téléchargement. Code de statut :\", response.status_code)"
   ]
  }
 ],
 "metadata": {
  "kernelspec": {
   "display_name": "Python 3 (ipykernel)",
   "language": "python",
   "name": "python3"
  },
  "language_info": {
   "codemirror_mode": {
    "name": "ipython",
    "version": 3
   },
   "file_extension": ".py",
   "mimetype": "text/x-python",
   "name": "python",
   "nbconvert_exporter": "python",
   "pygments_lexer": "ipython3",
   "version": "3.10.16"
  }
 },
 "nbformat": 4,
 "nbformat_minor": 5
}
