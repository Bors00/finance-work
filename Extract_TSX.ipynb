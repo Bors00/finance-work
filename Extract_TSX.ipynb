{
 "cells": [
  {
   "cell_type": "markdown",
   "metadata": {},
   "source": [
    "# Extraction et mise à jour des données pour le S&P/TSX Composite Index\n",
    "\n",
    "Ce notebook récupère depuis Wikipedia la liste des tickers des entreprises composant l'indice S&P/TSX Composite (tableau à l'index 3). Pour chaque ticker, il effectue les opérations suivantes :\n",
    "\n",
    "1. **Vérification** :\n",
    "   - Si le ticker est déjà présent dans le CSV existant, il est analysé pour déterminer si la colonne **historical** contient des données couvrant la période souhaitée (entre `start_date` et `end_date`). Pour ce faire, le script extrait la date maximale présente dans l'historique.\n",
    "   - Si la date maximale est antérieure à `end_date`, le ticker est mis à jour (données manquantes à récupérer).\n",
    "   - Sinon, le ticker est ignoré (les données sont considérées comme complètes).\n",
    "\n",
    "2. **Mise à jour** :\n",
    "   - Pour les tickers absents du CSV ou dont l'historique est incomplet, le script interroge yfinance (en gérant le rate limiting par retries) pour récupérer l'historique des prix entre `start_date` et `end_date` (colonnes Date, Open, High, Low, Close, Volume et Dividends si disponibles), convertit ces données en JSON (colonne **historical**), et récupère l'ensemble des attributs (chacun dans sa propre colonne).\n",
    "   - Si le ticker était déjà présent, l'historique existant est fusionné avec les nouveaux enregistrements (en ajoutant uniquement ceux dont la date n'est pas déjà présente), afin de s'assurer que toutes les dates (pour les jours de bourse) entre `start_date` et `end_date` sont couvertes.\n",
    "\n",
    "Le résultat final, une seule ligne par ticker, est sauvegardé dans le dossier **stocks** sous le nom `sp_tsx_canadien_data.csv`.\n",
    "\n",
    "Note : Pour les tickers du TSX, le suffixe `.TO` est ajouté si nécessaire."
   ]
  },
  {
   "cell_type": "code",
   "execution_count": 1,
   "metadata": {},
   "outputs": [
    {
     "name": "stdout",
     "output_type": "stream",
     "text": [
      "Nombre de tableaux récupérés: 5\n",
      "Aperçu du tableau récupéré:\n",
      "  Ticker                     Company       Sector [9]  \\\n",
      "0    AAV       Advantage Energy Ltd.           Energy   \n",
      "1    AEM  Agnico Eagle Mines Limited  Basic Materials   \n",
      "2     AC                  Air Canada      Industrials   \n",
      "3    AGI            Alamos Gold Inc.  Basic Materials   \n",
      "4   ASTL     Algoma Steel Group Inc.  Basic Materials   \n",
      "\n",
      "                           Industry [9]  \n",
      "0  Oil & Gas Exploration and Production  \n",
      "1                       Metals & Mining  \n",
      "2                        Transportation  \n",
      "3                       Metals & Mining  \n",
      "4                                 Steel  \n",
      "Tickers récupérés: ['AAV', 'AEM', 'AC', 'AGI', 'ASTL', 'AQN', 'ATD', 'AP.UN', 'ALA', 'AIF', 'ARX', 'ATZ', 'ACO.X', 'ATH', 'ATRL', 'ATS', 'AYA', 'BTO', 'BDGI', 'BMO', 'BNS', 'ABX', 'BHC', 'BTE', 'BCE', 'BIR', 'BDT', 'BB', 'BEI.UN', 'BBD.B', 'BLX', 'BYD', 'BAM', 'BBU.UN', 'BN', 'BIP.UN', 'BEP.UN', 'DOO', 'CAE', 'CXB', 'CCO', 'CAR.UN', 'CM', 'CNR', 'CNQ', 'CP', 'CTC.A', 'CU', 'CWB', 'CPX', 'CS', 'CJT', 'CCL.B', 'CLS', 'CVE', 'CG', 'CEU', 'GIB.A', 'CSH.UN', 'CHP.UN', 'CIX', 'CCA', 'CIGI', 'CSU', 'CRR.UN', 'CRT.UN', 'DFY', 'DML', 'DSG', 'DOL', 'DIR.UN', 'DPM', 'ELD', 'EFN', 'EMA', 'EMP.A', 'ENB', 'EFR', 'ENGH', 'EQB', 'EQX', 'ERO', 'EIF', 'FFH', 'FIL', 'FTT', 'FCR.UN', 'AG', 'FM', 'FSV', 'FTS', 'FVI', 'FNV', 'FRU', 'WN', 'GFL', 'GEI', 'GIL', 'GSY', 'GRT.UN', 'GWO', 'HR.UN', 'HWX', 'HBM', 'H', 'IAG', 'IMG', 'IGM', 'IMO', 'INE', 'IFC', 'IFP', 'IPCO', 'IIP.UN', 'IVN', 'JWEL', 'KNT', 'KEL', 'KEY', 'KMP.UN', 'KXS', 'K', 'LIF', 'LB', 'LSPD', 'LNR', 'L', 'LUG', 'LUN', 'MAG', 'MG', 'MFC', 'MFI', 'MATR', 'MDA', 'MEG', 'MX', 'MRU', 'MTY', 'MTL', 'NGD', 'NXE', 'NFI', 'NWC', 'NPI', 'NWH.UN', 'NG', 'NTR', 'NVEI', 'NVA', 'OGC', 'ONEX', 'OTEX', 'OLA', 'OR', 'OSK', 'PAAS', 'POU', 'PXT', 'PKI', 'PSI', 'PPL', 'PET', 'PEY', 'POW', 'PSK', 'PD', 'PBH', 'PMZ.UN', 'PRMW', 'QBR.B', 'QSR', 'RCH', 'REI.UN', 'RCI.B', 'RY', 'RUS', 'SSL', 'SAP', 'SEA', 'SES', 'SHOP', 'SIA', 'SIL', 'SRU.UN', 'SOBO', 'TOY', 'SII', 'SSRM', 'STN', 'STLC', 'SJ', 'SVI', 'SLF', 'SU', 'SPB', 'TVE', 'TRP', 'TECK.B', 'T', 'TFII', 'TRI', 'TLRY', 'X', 'TPZ', 'TXG', 'TIH', 'TD', 'TOU', 'TA', 'TCL.A', 'TFPM', 'TSU', 'VRN', 'VET', 'WCN', 'WDO', 'WFG', 'WPM', 'WCP', 'WPK', 'WSP']\n",
      "Traitement du ticker: AAV.TO\n",
      "Traitement du ticker: AEM.TO\n",
      "Traitement du ticker: AC.TO\n",
      "Traitement du ticker: AGI.TO\n",
      "Traitement du ticker: ASTL.TO\n",
      "Traitement du ticker: AQN.TO\n",
      "Traitement du ticker: ATD.TO\n",
      "Traitement du ticker: AP.UN.TO\n"
     ]
    },
    {
     "name": "stderr",
     "output_type": "stream",
     "text": [
      "404 Client Error: Not Found for url: https://query2.finance.yahoo.com/v10/finance/quoteSummary/AP.UN.TO?modules=financialData%2CquoteType%2CdefaultKeyStatistics%2CassetProfile%2CsummaryDetail&corsDomain=finance.yahoo.com&formatted=false&symbol=AP.UN.TO&crumb=lmCr0C7mGOX\n"
     ]
    },
    {
     "name": "stdout",
     "output_type": "stream",
     "text": [
      "Erreur pour AP.UN.TO: 'NoneType' object has no attribute 'update'\n",
      "Traitement du ticker: ALA.TO\n",
      "Traitement du ticker: AIF.TO\n",
      "Traitement du ticker: ARX.TO\n",
      "Traitement du ticker: ATZ.TO\n",
      "Traitement du ticker: ACO.X.TO\n"
     ]
    },
    {
     "name": "stderr",
     "output_type": "stream",
     "text": [
      "$ACO.X.TO: possibly delisted; no timezone found\n"
     ]
    },
    {
     "name": "stdout",
     "output_type": "stream",
     "text": [
      "Aucune donnée historique pour ACO.X.TO\n",
      "Traitement du ticker: ATH.TO\n",
      "Traitement du ticker: ATRL.TO\n",
      "Traitement du ticker: ATS.TO\n",
      "Traitement du ticker: AYA.TO\n",
      "Traitement du ticker: BTO.TO\n",
      "Traitement du ticker: BDGI.TO\n",
      "Traitement du ticker: BMO.TO\n",
      "Traitement du ticker: BNS.TO\n",
      "Traitement du ticker: ABX.TO\n",
      "Traitement du ticker: BHC.TO\n",
      "Traitement du ticker: BTE.TO\n",
      "Traitement du ticker: BCE.TO\n",
      "Traitement du ticker: BIR.TO\n",
      "Traitement du ticker: BDT.TO\n",
      "Traitement du ticker: BB.TO\n",
      "Traitement du ticker: BEI.UN.TO\n"
     ]
    },
    {
     "name": "stderr",
     "output_type": "stream",
     "text": [
      "404 Client Error: Not Found for url: https://query2.finance.yahoo.com/v10/finance/quoteSummary/BEI.UN.TO?modules=financialData%2CquoteType%2CdefaultKeyStatistics%2CassetProfile%2CsummaryDetail&corsDomain=finance.yahoo.com&formatted=false&symbol=BEI.UN.TO&crumb=lmCr0C7mGOX\n"
     ]
    },
    {
     "name": "stdout",
     "output_type": "stream",
     "text": [
      "Erreur pour BEI.UN.TO: 'NoneType' object has no attribute 'update'\n",
      "Traitement du ticker: BBD.B.TO\n"
     ]
    },
    {
     "name": "stderr",
     "output_type": "stream",
     "text": [
      "404 Client Error: Not Found for url: https://query2.finance.yahoo.com/v10/finance/quoteSummary/BBD.B.TO?modules=financialData%2CquoteType%2CdefaultKeyStatistics%2CassetProfile%2CsummaryDetail&corsDomain=finance.yahoo.com&formatted=false&symbol=BBD.B.TO&crumb=lmCr0C7mGOX\n"
     ]
    },
    {
     "name": "stdout",
     "output_type": "stream",
     "text": [
      "Erreur pour BBD.B.TO: 'NoneType' object has no attribute 'update'\n",
      "Traitement du ticker: BLX.TO\n",
      "Traitement du ticker: BYD.TO\n",
      "Traitement du ticker: BAM.TO\n",
      "Traitement du ticker: BBU.UN.TO\n"
     ]
    },
    {
     "name": "stderr",
     "output_type": "stream",
     "text": [
      "404 Client Error: Not Found for url: https://query2.finance.yahoo.com/v10/finance/quoteSummary/BBU.UN.TO?modules=financialData%2CquoteType%2CdefaultKeyStatistics%2CassetProfile%2CsummaryDetail&corsDomain=finance.yahoo.com&formatted=false&symbol=BBU.UN.TO&crumb=lmCr0C7mGOX\n"
     ]
    },
    {
     "name": "stdout",
     "output_type": "stream",
     "text": [
      "Erreur pour BBU.UN.TO: 'NoneType' object has no attribute 'update'\n",
      "Traitement du ticker: BN.TO\n",
      "Traitement du ticker: BIP.UN.TO\n"
     ]
    },
    {
     "name": "stderr",
     "output_type": "stream",
     "text": [
      "404 Client Error: Not Found for url: https://query2.finance.yahoo.com/v10/finance/quoteSummary/BIP.UN.TO?modules=financialData%2CquoteType%2CdefaultKeyStatistics%2CassetProfile%2CsummaryDetail&corsDomain=finance.yahoo.com&formatted=false&symbol=BIP.UN.TO&crumb=lmCr0C7mGOX\n"
     ]
    },
    {
     "name": "stdout",
     "output_type": "stream",
     "text": [
      "Erreur pour BIP.UN.TO: 'NoneType' object has no attribute 'update'\n",
      "Traitement du ticker: BEP.UN.TO\n"
     ]
    },
    {
     "name": "stderr",
     "output_type": "stream",
     "text": [
      "404 Client Error: Not Found for url: https://query2.finance.yahoo.com/v10/finance/quoteSummary/BEP.UN.TO?modules=financialData%2CquoteType%2CdefaultKeyStatistics%2CassetProfile%2CsummaryDetail&corsDomain=finance.yahoo.com&formatted=false&symbol=BEP.UN.TO&crumb=lmCr0C7mGOX\n"
     ]
    },
    {
     "name": "stdout",
     "output_type": "stream",
     "text": [
      "Erreur pour BEP.UN.TO: 'NoneType' object has no attribute 'update'\n",
      "Traitement du ticker: DOO.TO\n",
      "Traitement du ticker: CAE.TO\n",
      "Traitement du ticker: CXB.TO\n",
      "Traitement du ticker: CCO.TO\n",
      "Traitement du ticker: CAR.UN.TO\n"
     ]
    },
    {
     "name": "stderr",
     "output_type": "stream",
     "text": [
      "404 Client Error: Not Found for url: https://query2.finance.yahoo.com/v10/finance/quoteSummary/CAR.UN.TO?modules=financialData%2CquoteType%2CdefaultKeyStatistics%2CassetProfile%2CsummaryDetail&corsDomain=finance.yahoo.com&formatted=false&symbol=CAR.UN.TO&crumb=lmCr0C7mGOX\n"
     ]
    },
    {
     "name": "stdout",
     "output_type": "stream",
     "text": [
      "Erreur pour CAR.UN.TO: 'NoneType' object has no attribute 'update'\n",
      "Traitement du ticker: CM.TO\n",
      "Traitement du ticker: CNR.TO\n",
      "Traitement du ticker: CNQ.TO\n",
      "Traitement du ticker: CP.TO\n",
      "Traitement du ticker: CTC.A.TO\n"
     ]
    },
    {
     "name": "stderr",
     "output_type": "stream",
     "text": [
      "404 Client Error: Not Found for url: https://query2.finance.yahoo.com/v10/finance/quoteSummary/CTC.A.TO?modules=financialData%2CquoteType%2CdefaultKeyStatistics%2CassetProfile%2CsummaryDetail&corsDomain=finance.yahoo.com&formatted=false&symbol=CTC.A.TO&crumb=lmCr0C7mGOX\n"
     ]
    },
    {
     "name": "stdout",
     "output_type": "stream",
     "text": [
      "Erreur pour CTC.A.TO: 'NoneType' object has no attribute 'update'\n",
      "Traitement du ticker: CU.TO\n",
      "Traitement du ticker: CWB.TO\n"
     ]
    },
    {
     "name": "stderr",
     "output_type": "stream",
     "text": [
      "$CWB.TO: possibly delisted; no timezone found\n"
     ]
    },
    {
     "name": "stdout",
     "output_type": "stream",
     "text": [
      "Aucune donnée historique pour CWB.TO\n",
      "Traitement du ticker: CPX.TO\n",
      "Traitement du ticker: CS.TO\n",
      "Traitement du ticker: CJT.TO\n",
      "Traitement du ticker: CCL.B.TO\n"
     ]
    },
    {
     "name": "stderr",
     "output_type": "stream",
     "text": [
      "404 Client Error: Not Found for url: https://query2.finance.yahoo.com/v10/finance/quoteSummary/CCL.B.TO?modules=financialData%2CquoteType%2CdefaultKeyStatistics%2CassetProfile%2CsummaryDetail&corsDomain=finance.yahoo.com&formatted=false&symbol=CCL.B.TO&crumb=lmCr0C7mGOX\n"
     ]
    },
    {
     "name": "stdout",
     "output_type": "stream",
     "text": [
      "Erreur pour CCL.B.TO: 'NoneType' object has no attribute 'update'\n",
      "Traitement du ticker: CLS.TO\n",
      "Traitement du ticker: CVE.TO\n",
      "Traitement du ticker: CG.TO\n",
      "Traitement du ticker: CEU.TO\n",
      "Traitement du ticker: GIB.A.TO\n"
     ]
    },
    {
     "name": "stderr",
     "output_type": "stream",
     "text": [
      "404 Client Error: Not Found for url: https://query2.finance.yahoo.com/v10/finance/quoteSummary/GIB.A.TO?modules=financialData%2CquoteType%2CdefaultKeyStatistics%2CassetProfile%2CsummaryDetail&corsDomain=finance.yahoo.com&formatted=false&symbol=GIB.A.TO&crumb=lmCr0C7mGOX\n"
     ]
    },
    {
     "name": "stdout",
     "output_type": "stream",
     "text": [
      "Erreur pour GIB.A.TO: 'NoneType' object has no attribute 'update'\n",
      "Traitement du ticker: CSH.UN.TO\n"
     ]
    },
    {
     "name": "stderr",
     "output_type": "stream",
     "text": [
      "404 Client Error: Not Found for url: https://query2.finance.yahoo.com/v10/finance/quoteSummary/CSH.UN.TO?modules=financialData%2CquoteType%2CdefaultKeyStatistics%2CassetProfile%2CsummaryDetail&corsDomain=finance.yahoo.com&formatted=false&symbol=CSH.UN.TO&crumb=lmCr0C7mGOX\n"
     ]
    },
    {
     "name": "stdout",
     "output_type": "stream",
     "text": [
      "Erreur pour CSH.UN.TO: 'NoneType' object has no attribute 'update'\n",
      "Traitement du ticker: CHP.UN.TO\n"
     ]
    },
    {
     "name": "stderr",
     "output_type": "stream",
     "text": [
      "404 Client Error: Not Found for url: https://query2.finance.yahoo.com/v10/finance/quoteSummary/CHP.UN.TO?modules=financialData%2CquoteType%2CdefaultKeyStatistics%2CassetProfile%2CsummaryDetail&corsDomain=finance.yahoo.com&formatted=false&symbol=CHP.UN.TO&crumb=lmCr0C7mGOX\n"
     ]
    },
    {
     "name": "stdout",
     "output_type": "stream",
     "text": [
      "Erreur pour CHP.UN.TO: 'NoneType' object has no attribute 'update'\n",
      "Traitement du ticker: CIX.TO\n",
      "Traitement du ticker: CCA.TO\n",
      "Traitement du ticker: CIGI.TO\n",
      "Traitement du ticker: CSU.TO\n",
      "Traitement du ticker: CRR.UN.TO\n"
     ]
    },
    {
     "name": "stderr",
     "output_type": "stream",
     "text": [
      "404 Client Error: Not Found for url: https://query2.finance.yahoo.com/v10/finance/quoteSummary/CRR.UN.TO?modules=financialData%2CquoteType%2CdefaultKeyStatistics%2CassetProfile%2CsummaryDetail&corsDomain=finance.yahoo.com&formatted=false&symbol=CRR.UN.TO&crumb=lmCr0C7mGOX\n"
     ]
    },
    {
     "name": "stdout",
     "output_type": "stream",
     "text": [
      "Erreur pour CRR.UN.TO: 'NoneType' object has no attribute 'update'\n",
      "Traitement du ticker: CRT.UN.TO\n"
     ]
    },
    {
     "name": "stderr",
     "output_type": "stream",
     "text": [
      "404 Client Error: Not Found for url: https://query2.finance.yahoo.com/v10/finance/quoteSummary/CRT.UN.TO?modules=financialData%2CquoteType%2CdefaultKeyStatistics%2CassetProfile%2CsummaryDetail&corsDomain=finance.yahoo.com&formatted=false&symbol=CRT.UN.TO&crumb=lmCr0C7mGOX\n"
     ]
    },
    {
     "name": "stdout",
     "output_type": "stream",
     "text": [
      "Erreur pour CRT.UN.TO: 'NoneType' object has no attribute 'update'\n",
      "Traitement du ticker: DFY.TO\n",
      "Traitement du ticker: DML.TO\n",
      "Traitement du ticker: DSG.TO\n",
      "Traitement du ticker: DOL.TO\n",
      "Traitement du ticker: DIR.UN.TO\n"
     ]
    },
    {
     "name": "stderr",
     "output_type": "stream",
     "text": [
      "404 Client Error: Not Found for url: https://query2.finance.yahoo.com/v10/finance/quoteSummary/DIR.UN.TO?modules=financialData%2CquoteType%2CdefaultKeyStatistics%2CassetProfile%2CsummaryDetail&corsDomain=finance.yahoo.com&formatted=false&symbol=DIR.UN.TO&crumb=lmCr0C7mGOX\n"
     ]
    },
    {
     "name": "stdout",
     "output_type": "stream",
     "text": [
      "Erreur pour DIR.UN.TO: 'NoneType' object has no attribute 'update'\n",
      "Traitement du ticker: DPM.TO\n",
      "Traitement du ticker: ELD.TO\n",
      "Traitement du ticker: EFN.TO\n",
      "Traitement du ticker: EMA.TO\n",
      "Traitement du ticker: EMP.A.TO\n"
     ]
    },
    {
     "name": "stderr",
     "output_type": "stream",
     "text": [
      "404 Client Error: Not Found for url: https://query2.finance.yahoo.com/v10/finance/quoteSummary/EMP.A.TO?modules=financialData%2CquoteType%2CdefaultKeyStatistics%2CassetProfile%2CsummaryDetail&corsDomain=finance.yahoo.com&formatted=false&symbol=EMP.A.TO&crumb=lmCr0C7mGOX\n"
     ]
    },
    {
     "name": "stdout",
     "output_type": "stream",
     "text": [
      "Erreur pour EMP.A.TO: 'NoneType' object has no attribute 'update'\n",
      "Traitement du ticker: ENB.TO\n",
      "Traitement du ticker: EFR.TO\n",
      "Traitement du ticker: ENGH.TO\n",
      "Traitement du ticker: EQB.TO\n",
      "Traitement du ticker: EQX.TO\n",
      "Traitement du ticker: ERO.TO\n",
      "Traitement du ticker: EIF.TO\n",
      "Traitement du ticker: FFH.TO\n",
      "Traitement du ticker: FIL.TO\n"
     ]
    },
    {
     "name": "stderr",
     "output_type": "stream",
     "text": [
      "$FIL.TO: possibly delisted; no timezone found\n"
     ]
    },
    {
     "name": "stdout",
     "output_type": "stream",
     "text": [
      "Aucune donnée historique pour FIL.TO\n",
      "Traitement du ticker: FTT.TO\n",
      "Traitement du ticker: FCR.UN.TO\n"
     ]
    },
    {
     "name": "stderr",
     "output_type": "stream",
     "text": [
      "404 Client Error: Not Found for url: https://query2.finance.yahoo.com/v10/finance/quoteSummary/FCR.UN.TO?modules=financialData%2CquoteType%2CdefaultKeyStatistics%2CassetProfile%2CsummaryDetail&corsDomain=finance.yahoo.com&formatted=false&symbol=FCR.UN.TO&crumb=lmCr0C7mGOX\n"
     ]
    },
    {
     "name": "stdout",
     "output_type": "stream",
     "text": [
      "Erreur pour FCR.UN.TO: 'NoneType' object has no attribute 'update'\n",
      "Traitement du ticker: AG.TO\n",
      "Traitement du ticker: FM.TO\n",
      "Traitement du ticker: FSV.TO\n",
      "Traitement du ticker: FTS.TO\n",
      "Traitement du ticker: FVI.TO\n",
      "Traitement du ticker: FNV.TO\n",
      "Traitement du ticker: FRU.TO\n",
      "Traitement du ticker: WN.TO\n",
      "Traitement du ticker: GFL.TO\n",
      "Traitement du ticker: GEI.TO\n",
      "Traitement du ticker: GIL.TO\n",
      "Traitement du ticker: GSY.TO\n",
      "Traitement du ticker: GRT.UN.TO\n"
     ]
    },
    {
     "name": "stderr",
     "output_type": "stream",
     "text": [
      "404 Client Error: Not Found for url: https://query2.finance.yahoo.com/v10/finance/quoteSummary/GRT.UN.TO?modules=financialData%2CquoteType%2CdefaultKeyStatistics%2CassetProfile%2CsummaryDetail&corsDomain=finance.yahoo.com&formatted=false&symbol=GRT.UN.TO&crumb=lmCr0C7mGOX\n"
     ]
    },
    {
     "name": "stdout",
     "output_type": "stream",
     "text": [
      "Erreur pour GRT.UN.TO: 'NoneType' object has no attribute 'update'\n",
      "Traitement du ticker: GWO.TO\n",
      "Traitement du ticker: HR.UN.TO\n"
     ]
    },
    {
     "name": "stderr",
     "output_type": "stream",
     "text": [
      "404 Client Error: Not Found for url: https://query2.finance.yahoo.com/v10/finance/quoteSummary/HR.UN.TO?modules=financialData%2CquoteType%2CdefaultKeyStatistics%2CassetProfile%2CsummaryDetail&corsDomain=finance.yahoo.com&formatted=false&symbol=HR.UN.TO&crumb=lmCr0C7mGOX\n"
     ]
    },
    {
     "name": "stdout",
     "output_type": "stream",
     "text": [
      "Erreur pour HR.UN.TO: 'NoneType' object has no attribute 'update'\n",
      "Traitement du ticker: HWX.TO\n",
      "Traitement du ticker: HBM.TO\n",
      "Traitement du ticker: H.TO\n",
      "Traitement du ticker: IAG.TO\n",
      "Traitement du ticker: IMG.TO\n",
      "Traitement du ticker: IGM.TO\n",
      "Traitement du ticker: IMO.TO\n",
      "Traitement du ticker: INE.TO\n",
      "Traitement du ticker: IFC.TO\n",
      "Traitement du ticker: IFP.TO\n",
      "Traitement du ticker: IPCO.TO\n",
      "Traitement du ticker: IIP.UN.TO\n"
     ]
    },
    {
     "name": "stderr",
     "output_type": "stream",
     "text": [
      "404 Client Error: Not Found for url: https://query2.finance.yahoo.com/v10/finance/quoteSummary/IIP.UN.TO?modules=financialData%2CquoteType%2CdefaultKeyStatistics%2CassetProfile%2CsummaryDetail&corsDomain=finance.yahoo.com&formatted=false&symbol=IIP.UN.TO&crumb=lmCr0C7mGOX\n"
     ]
    },
    {
     "name": "stdout",
     "output_type": "stream",
     "text": [
      "Erreur pour IIP.UN.TO: 'NoneType' object has no attribute 'update'\n",
      "Traitement du ticker: IVN.TO\n",
      "Traitement du ticker: JWEL.TO\n",
      "Traitement du ticker: KNT.TO\n",
      "Traitement du ticker: KEL.TO\n",
      "Traitement du ticker: KEY.TO\n",
      "Traitement du ticker: KMP.UN.TO\n"
     ]
    },
    {
     "name": "stderr",
     "output_type": "stream",
     "text": [
      "404 Client Error: Not Found for url: https://query2.finance.yahoo.com/v10/finance/quoteSummary/KMP.UN.TO?modules=financialData%2CquoteType%2CdefaultKeyStatistics%2CassetProfile%2CsummaryDetail&corsDomain=finance.yahoo.com&formatted=false&symbol=KMP.UN.TO&crumb=lmCr0C7mGOX\n"
     ]
    },
    {
     "name": "stdout",
     "output_type": "stream",
     "text": [
      "Erreur pour KMP.UN.TO: 'NoneType' object has no attribute 'update'\n",
      "Traitement du ticker: KXS.TO\n",
      "Traitement du ticker: K.TO\n",
      "Traitement du ticker: LIF.TO\n",
      "Traitement du ticker: LB.TO\n",
      "Traitement du ticker: LSPD.TO\n",
      "Traitement du ticker: LNR.TO\n",
      "Traitement du ticker: L.TO\n",
      "Traitement du ticker: LUG.TO\n",
      "Traitement du ticker: LUN.TO\n",
      "Traitement du ticker: MAG.TO\n",
      "Traitement du ticker: MG.TO\n",
      "Traitement du ticker: MFC.TO\n",
      "Traitement du ticker: MFI.TO\n",
      "Traitement du ticker: MATR.TO\n",
      "Traitement du ticker: MDA.TO\n",
      "Traitement du ticker: MEG.TO\n",
      "Traitement du ticker: MX.TO\n",
      "Traitement du ticker: MRU.TO\n",
      "Traitement du ticker: MTY.TO\n",
      "Traitement du ticker: MTL.TO\n",
      "Traitement du ticker: NGD.TO\n",
      "Traitement du ticker: NXE.TO\n",
      "Traitement du ticker: NFI.TO\n",
      "Traitement du ticker: NWC.TO\n",
      "Traitement du ticker: NPI.TO\n",
      "Traitement du ticker: NWH.UN.TO\n"
     ]
    },
    {
     "name": "stderr",
     "output_type": "stream",
     "text": [
      "404 Client Error: Not Found for url: https://query2.finance.yahoo.com/v10/finance/quoteSummary/NWH.UN.TO?modules=financialData%2CquoteType%2CdefaultKeyStatistics%2CassetProfile%2CsummaryDetail&corsDomain=finance.yahoo.com&formatted=false&symbol=NWH.UN.TO&crumb=lmCr0C7mGOX\n"
     ]
    },
    {
     "name": "stdout",
     "output_type": "stream",
     "text": [
      "Erreur pour NWH.UN.TO: 'NoneType' object has no attribute 'update'\n",
      "Traitement du ticker: NG.TO\n",
      "Traitement du ticker: NTR.TO\n",
      "Traitement du ticker: NVEI.TO\n"
     ]
    },
    {
     "name": "stderr",
     "output_type": "stream",
     "text": [
      "$NVEI.TO: possibly delisted; no timezone found\n"
     ]
    },
    {
     "name": "stdout",
     "output_type": "stream",
     "text": [
      "Aucune donnée historique pour NVEI.TO\n",
      "Traitement du ticker: NVA.TO\n",
      "Traitement du ticker: OGC.TO\n",
      "Traitement du ticker: ONEX.TO\n",
      "Traitement du ticker: OTEX.TO\n",
      "Traitement du ticker: OLA.TO\n",
      "Traitement du ticker: OR.TO\n",
      "Traitement du ticker: OSK.TO\n"
     ]
    },
    {
     "name": "stderr",
     "output_type": "stream",
     "text": [
      "$OSK.TO: possibly delisted; no timezone found\n"
     ]
    },
    {
     "name": "stdout",
     "output_type": "stream",
     "text": [
      "Aucune donnée historique pour OSK.TO\n",
      "Traitement du ticker: PAAS.TO\n",
      "Traitement du ticker: POU.TO\n",
      "Traitement du ticker: PXT.TO\n",
      "Traitement du ticker: PKI.TO\n",
      "Traitement du ticker: PSI.TO\n",
      "Traitement du ticker: PPL.TO\n",
      "Traitement du ticker: PET.TO\n",
      "Traitement du ticker: PEY.TO\n",
      "Traitement du ticker: POW.TO\n",
      "Traitement du ticker: PSK.TO\n",
      "Traitement du ticker: PD.TO\n",
      "Traitement du ticker: PBH.TO\n",
      "Traitement du ticker: PMZ.UN.TO\n"
     ]
    },
    {
     "name": "stderr",
     "output_type": "stream",
     "text": [
      "404 Client Error: Not Found for url: https://query2.finance.yahoo.com/v10/finance/quoteSummary/PMZ.UN.TO?modules=financialData%2CquoteType%2CdefaultKeyStatistics%2CassetProfile%2CsummaryDetail&corsDomain=finance.yahoo.com&formatted=false&symbol=PMZ.UN.TO&crumb=lmCr0C7mGOX\n"
     ]
    },
    {
     "name": "stdout",
     "output_type": "stream",
     "text": [
      "Erreur pour PMZ.UN.TO: 'NoneType' object has no attribute 'update'\n",
      "Traitement du ticker: PRMW.TO\n"
     ]
    },
    {
     "name": "stderr",
     "output_type": "stream",
     "text": [
      "$PRMW.TO: possibly delisted; no price data found  (1d 2020-01-01 -> 2025-04-03)\n"
     ]
    },
    {
     "name": "stdout",
     "output_type": "stream",
     "text": [
      "Aucune donnée historique pour PRMW.TO\n",
      "Traitement du ticker: QBR.B.TO\n"
     ]
    },
    {
     "name": "stderr",
     "output_type": "stream",
     "text": [
      "404 Client Error: Not Found for url: https://query2.finance.yahoo.com/v10/finance/quoteSummary/QBR.B.TO?modules=financialData%2CquoteType%2CdefaultKeyStatistics%2CassetProfile%2CsummaryDetail&corsDomain=finance.yahoo.com&formatted=false&symbol=QBR.B.TO&crumb=lmCr0C7mGOX\n"
     ]
    },
    {
     "name": "stdout",
     "output_type": "stream",
     "text": [
      "Erreur pour QBR.B.TO: 'NoneType' object has no attribute 'update'\n",
      "Traitement du ticker: QSR.TO\n",
      "Traitement du ticker: RCH.TO\n",
      "Traitement du ticker: REI.UN.TO\n"
     ]
    },
    {
     "name": "stderr",
     "output_type": "stream",
     "text": [
      "404 Client Error: Not Found for url: https://query2.finance.yahoo.com/v10/finance/quoteSummary/REI.UN.TO?modules=financialData%2CquoteType%2CdefaultKeyStatistics%2CassetProfile%2CsummaryDetail&corsDomain=finance.yahoo.com&formatted=false&symbol=REI.UN.TO&crumb=lmCr0C7mGOX\n"
     ]
    },
    {
     "name": "stdout",
     "output_type": "stream",
     "text": [
      "Erreur pour REI.UN.TO: 'NoneType' object has no attribute 'update'\n",
      "Traitement du ticker: RCI.B.TO\n"
     ]
    },
    {
     "name": "stderr",
     "output_type": "stream",
     "text": [
      "404 Client Error: Not Found for url: https://query2.finance.yahoo.com/v10/finance/quoteSummary/RCI.B.TO?modules=financialData%2CquoteType%2CdefaultKeyStatistics%2CassetProfile%2CsummaryDetail&corsDomain=finance.yahoo.com&formatted=false&symbol=RCI.B.TO&crumb=lmCr0C7mGOX\n"
     ]
    },
    {
     "name": "stdout",
     "output_type": "stream",
     "text": [
      "Erreur pour RCI.B.TO: 'NoneType' object has no attribute 'update'\n",
      "Traitement du ticker: RY.TO\n",
      "Traitement du ticker: RUS.TO\n",
      "Traitement du ticker: SSL.TO\n",
      "Traitement du ticker: SAP.TO\n",
      "Traitement du ticker: SEA.TO\n",
      "Traitement du ticker: SES.TO\n",
      "Traitement du ticker: SHOP.TO\n",
      "Traitement du ticker: SIA.TO\n",
      "Traitement du ticker: SIL.TO\n"
     ]
    },
    {
     "name": "stderr",
     "output_type": "stream",
     "text": [
      "404 Client Error: Not Found for url: https://query2.finance.yahoo.com/v10/finance/quoteSummary/SIL.TO?modules=financialData%2CquoteType%2CdefaultKeyStatistics%2CassetProfile%2CsummaryDetail&corsDomain=finance.yahoo.com&formatted=false&symbol=SIL.TO&crumb=lmCr0C7mGOX\n"
     ]
    },
    {
     "name": "stdout",
     "output_type": "stream",
     "text": [
      "Erreur pour SIL.TO: 'NoneType' object has no attribute 'update'\n",
      "Traitement du ticker: SRU.UN.TO\n"
     ]
    },
    {
     "name": "stderr",
     "output_type": "stream",
     "text": [
      "404 Client Error: Not Found for url: https://query2.finance.yahoo.com/v10/finance/quoteSummary/SRU.UN.TO?modules=financialData%2CquoteType%2CdefaultKeyStatistics%2CassetProfile%2CsummaryDetail&corsDomain=finance.yahoo.com&formatted=false&symbol=SRU.UN.TO&crumb=lmCr0C7mGOX\n"
     ]
    },
    {
     "name": "stdout",
     "output_type": "stream",
     "text": [
      "Erreur pour SRU.UN.TO: 'NoneType' object has no attribute 'update'\n",
      "Traitement du ticker: SOBO.TO\n",
      "Traitement du ticker: TOY.TO\n",
      "Traitement du ticker: SII.TO\n",
      "Traitement du ticker: SSRM.TO\n",
      "Traitement du ticker: STN.TO\n",
      "Traitement du ticker: STLC.TO\n"
     ]
    },
    {
     "name": "stderr",
     "output_type": "stream",
     "text": [
      "$STLC.TO: possibly delisted; no timezone found\n"
     ]
    },
    {
     "name": "stdout",
     "output_type": "stream",
     "text": [
      "Aucune donnée historique pour STLC.TO\n",
      "Traitement du ticker: SJ.TO\n",
      "Traitement du ticker: SVI.TO\n",
      "Traitement du ticker: SLF.TO\n",
      "Traitement du ticker: SU.TO\n",
      "Traitement du ticker: SPB.TO\n",
      "Traitement du ticker: TVE.TO\n",
      "Traitement du ticker: TRP.TO\n",
      "Traitement du ticker: TECK.B.TO\n"
     ]
    },
    {
     "name": "stderr",
     "output_type": "stream",
     "text": [
      "404 Client Error: Not Found for url: https://query2.finance.yahoo.com/v10/finance/quoteSummary/TECK.B.TO?modules=financialData%2CquoteType%2CdefaultKeyStatistics%2CassetProfile%2CsummaryDetail&corsDomain=finance.yahoo.com&formatted=false&symbol=TECK.B.TO&crumb=lmCr0C7mGOX\n"
     ]
    },
    {
     "name": "stdout",
     "output_type": "stream",
     "text": [
      "Erreur pour TECK.B.TO: 'NoneType' object has no attribute 'update'\n",
      "Traitement du ticker: T.TO\n",
      "Traitement du ticker: TFII.TO\n",
      "Traitement du ticker: TRI.TO\n",
      "Traitement du ticker: TLRY.TO\n",
      "Traitement du ticker: X.TO\n",
      "Traitement du ticker: TPZ.TO\n",
      "Traitement du ticker: TXG.TO\n",
      "Traitement du ticker: TIH.TO\n",
      "Traitement du ticker: TD.TO\n",
      "Traitement du ticker: TOU.TO\n",
      "Traitement du ticker: TA.TO\n",
      "Traitement du ticker: TCL.A.TO\n"
     ]
    },
    {
     "name": "stderr",
     "output_type": "stream",
     "text": [
      "404 Client Error: Not Found for url: https://query2.finance.yahoo.com/v10/finance/quoteSummary/TCL.A.TO?modules=financialData%2CquoteType%2CdefaultKeyStatistics%2CassetProfile%2CsummaryDetail&corsDomain=finance.yahoo.com&formatted=false&symbol=TCL.A.TO&crumb=lmCr0C7mGOX\n"
     ]
    },
    {
     "name": "stdout",
     "output_type": "stream",
     "text": [
      "Erreur pour TCL.A.TO: 'NoneType' object has no attribute 'update'\n",
      "Traitement du ticker: TFPM.TO\n",
      "Traitement du ticker: TSU.TO\n",
      "Traitement du ticker: VRN.TO\n",
      "Traitement du ticker: VET.TO\n",
      "Traitement du ticker: WCN.TO\n",
      "Traitement du ticker: WDO.TO\n",
      "Traitement du ticker: WFG.TO\n",
      "Traitement du ticker: WPM.TO\n",
      "Traitement du ticker: WCP.TO\n",
      "Traitement du ticker: WPK.TO\n",
      "Traitement du ticker: WSP.TO\n",
      "Les données ont été exportées dans 'stocks/sp_tsx_canadien_data_20250422.csv'\n"
     ]
    }
   ],
   "source": [
    "import os\n",
    "import json\n",
    "import time\n",
    "from datetime import datetime\n",
    "import pandas as pd\n",
    "import yfinance as yf\n",
    "\n",
    "# Paramètres de dates\n",
    "start_date = \"2020-01-01\"\n",
    "end_date = \"2025-04-03\"\n",
    "date_format = \"%Y-%m-%d\"\n",
    "\n",
    "# URL de Wikipedia pour le S&P/TSX Composite Index\n",
    "url = \"https://en.wikipedia.org/wiki/S%26P/TSX_Composite_Index\"\n",
    "\n",
    "# Lecture des tableaux de la page\n",
    "try:\n",
    "    tables = pd.read_html(url, flavor=\"lxml\")\n",
    "    print(\"Nombre de tableaux récupérés:\", len(tables))\n",
    "except Exception as e:\n",
    "    print(\"Erreur lors de la lecture de la page Wikipedia:\", e)\n",
    "    tables = []\n",
    "\n",
    "if tables:\n",
    "    # Utiliser le tableau à l'index 3\n",
    "    df = tables[3]\n",
    "    print(\"Aperçu du tableau récupéré:\")\n",
    "    print(df.head())\n",
    "    \n",
    "    # Identifier la colonne contenant les tickers\n",
    "    if 'Ticker' in df.columns:\n",
    "        tickers = df['Ticker'].tolist()\n",
    "    elif 'Symbol' in df.columns:\n",
    "        tickers = df['Symbol'].tolist()\n",
    "    else:\n",
    "        print(\"Aucune colonne 'Ticker' ou 'Symbol' trouvée.\")\n",
    "        tickers = []\n",
    "    \n",
    "    tickers = [str(ticker).strip() for ticker in tickers if pd.notna(ticker)]\n",
    "    print(\"Tickers récupérés:\", tickers)\n",
    "else:\n",
    "    print(\"Aucun tableau n'a été récupéré. Vérifiez l'URL ou la structure de la page.\")\n",
    "    tickers = []\n",
    "\n",
    "# Créer le dossier 'stocks' s'il n'existe pas\n",
    "os.makedirs(\"stocks\", exist_ok=True)\n",
    "\n",
    "# Obtenir la date d'aujourd'hui au format AAAAMMJJ (exemple: 20250319)\n",
    "today = datetime.today().strftime('%Y%m%d')\n",
    "\n",
    "# Créer le nom de fichier en ajoutant la date avant l'extension\n",
    "filename = f\"sp_tsx_canadien_data_{today}.csv\"\n",
    "\n",
    "# Construire le chemin complet\n",
    "output_path = os.path.join(\"stocks\", filename)\n",
    "\n",
    "# Charger les données existantes (si le CSV existe)\n",
    "if os.path.exists(output_path):\n",
    "    existing_df = pd.read_csv(output_path)\n",
    "    print(f\"Fichier existant trouvé ({output_path}).\")\n",
    "    existing_data = {row[\"Ticker\"]: row for _, row in existing_df.iterrows()}\n",
    "else:\n",
    "    existing_data = {}\n",
    "\n",
    "def get_info_with_retry(stock, ticker, max_retries=3, delay=30):\n",
    "    for attempt in range(max_retries):\n",
    "        try:\n",
    "            info = stock.info\n",
    "            return info\n",
    "        except Exception as e:\n",
    "            if \"Too Many Requests\" in str(e):\n",
    "                print(f\"Rate limited pour {ticker}. Attente de {delay} secondes (tentative {attempt+1}/{max_retries})...\")\n",
    "                time.sleep(delay)\n",
    "            else:\n",
    "                raise e\n",
    "    return None\n",
    "\n",
    "# Fonction de fusion de l'historique : ajoute les enregistrements manquants\n",
    "def merge_historical(existing_json, new_json):\n",
    "    try:\n",
    "        existing_list = json.loads(existing_json) if existing_json else []\n",
    "    except Exception:\n",
    "        existing_list = []\n",
    "    try:\n",
    "        new_list = json.loads(new_json) if new_json else []\n",
    "    except Exception:\n",
    "        new_list = []\n",
    "    # Créer un dictionnaire par date pour les enregistrements existants\n",
    "    merged_dict = {record.get(\"Date\"): record for record in existing_list if record.get(\"Date\")}\n",
    "    # Ajouter ou mettre à jour avec les enregistrements du nouveau\n",
    "    for record in new_list:\n",
    "        date_key = record.get(\"Date\")\n",
    "        if date_key:\n",
    "            merged_dict[date_key] = record\n",
    "    merged_list = list(merged_dict.values())\n",
    "    try:\n",
    "        merged_list = sorted(merged_list, key=lambda x: x.get(\"Date\", \"\"))\n",
    "    except Exception:\n",
    "        pass\n",
    "    return json.dumps(merged_list, default=str)\n",
    "\n",
    "# Fonction pour vérifier si l'historique existant est complet\n",
    "def is_history_complete(historical_json, start_date, end_date):\n",
    "    try:\n",
    "        hist_list = json.loads(historical_json) if historical_json else []\n",
    "    except Exception:\n",
    "        return False\n",
    "    if not hist_list:\n",
    "        return False\n",
    "    # Extraire les dates disponibles\n",
    "    try:\n",
    "        dates = [datetime.strptime(record.get(\"Date\")[:10], date_format) for record in hist_list if record.get(\"Date\")]\n",
    "    except Exception:\n",
    "        return False\n",
    "    if not dates:\n",
    "        return False\n",
    "    min_date = min(dates)\n",
    "    max_date = max(dates)\n",
    "    target_end = datetime.strptime(end_date, date_format)\n",
    "    target_start = datetime.strptime(start_date, date_format)\n",
    "    # Vérifier que la première date est antérieure ou égale à start_date et que la dernière est supérieure ou égale à end_date\n",
    "    return (min_date <= target_start) and (max_date >= target_end)\n",
    "\n",
    "# Liste pour stocker les nouvelles données (à ajouter ou à mettre à jour)\n",
    "new_data = []\n",
    "\n",
    "for ticker in tickers:\n",
    "    # Vérifier si le ticker existe déjà et si l'historique est complet\n",
    "    update_required = True\n",
    "    if ticker in existing_data:\n",
    "        existing_hist = existing_data[ticker].get(\"historical\", \"\")\n",
    "        if is_history_complete(existing_hist, start_date, end_date):\n",
    "            print(f\"Ticker {ticker} déjà présent avec historique complet. Passage au suivant.\")\n",
    "            update_required = False\n",
    "        else:\n",
    "            print(f\"Ticker {ticker} présent mais historique incomplet. Mise à jour requise.\")\n",
    "    \n",
    "    if not update_required:\n",
    "        continue\n",
    "    \n",
    "    # Pour le TSX, ajouter le suffixe '.TO' si nécessaire\n",
    "    yf_ticker = ticker if ticker.endswith('.TO') else ticker + '.TO'\n",
    "    print(f\"Traitement du ticker: {yf_ticker}\")\n",
    "    try:\n",
    "        stock = yf.Ticker(yf_ticker)\n",
    "        \n",
    "        # Récupérer les informations avec retry\n",
    "        info = get_info_with_retry(stock, yf_ticker)\n",
    "        if not info:\n",
    "            print(f\"Aucune information pour {yf_ticker} après plusieurs tentatives. Passage au suivant.\")\n",
    "            continue\n",
    "        \n",
    "        # Récupérer l'historique des prix entre start_date et end_date\n",
    "        hist = stock.history(start=start_date, end=end_date)\n",
    "        if hist.empty:\n",
    "            print(f\"Aucune donnée historique pour {yf_ticker}\")\n",
    "            continue\n",
    "        \n",
    "        hist.reset_index(inplace=True)\n",
    "        cols = [\"Date\", \"Open\", \"High\", \"Low\", \"Close\", \"Volume\"]\n",
    "        if \"Dividends\" in hist.columns:\n",
    "            cols.append(\"Dividends\")\n",
    "        hist = hist[cols]\n",
    "        historical_json = json.dumps(hist.to_dict(orient=\"records\"), default=str)\n",
    "        \n",
    "        # Si le ticker est déjà présent, fusionner l'historique existant avec le nouveau\n",
    "        if ticker in existing_data:\n",
    "            merged_history = merge_historical(existing_data[ticker].get(\"historical\", \"\"), historical_json)\n",
    "        else:\n",
    "            merged_history = historical_json\n",
    "        \n",
    "        row = {}\n",
    "        row[\"Ticker\"] = ticker\n",
    "        row[\"historical\"] = merged_history\n",
    "        \n",
    "        # Ajouter chaque attribut récupéré par yfinance dans sa propre colonne\n",
    "        for key, value in info.items():\n",
    "            if not isinstance(value, (int, float, str)):\n",
    "                value = str(value)\n",
    "            row[key] = value\n",
    "        \n",
    "        new_data.append(row)\n",
    "    except Exception as e:\n",
    "        print(f\"Erreur pour {yf_ticker}: {e}\")\n",
    "\n",
    "# Fusionner les données existantes et les nouvelles données\n",
    "final_output = list(existing_data.values()) + new_data\n",
    "\n",
    "def sanitize_row(row):\n",
    "    sanitized = {}\n",
    "    for k, v in row.items():\n",
    "        if not isinstance(v, (int, float, str)):\n",
    "            sanitized[k] = str(v)\n",
    "        else:\n",
    "            sanitized[k] = v\n",
    "    return sanitized\n",
    "\n",
    "final_output = [sanitize_row(row) for row in final_output]\n",
    "\n",
    "df_final = pd.DataFrame(final_output)\n",
    "df_final.to_csv(output_path, index=False)\n",
    "print(f\"Les données ont été exportées dans '{output_path}'\")"
   ]
  }
 ],
 "metadata": {
  "kernelspec": {
   "display_name": "Python 3 (ipykernel)",
   "language": "python",
   "name": "python3"
  },
  "language_info": {
   "codemirror_mode": {
    "name": "ipython",
    "version": 3
   },
   "file_extension": ".py",
   "mimetype": "text/x-python",
   "name": "python",
   "nbconvert_exporter": "python",
   "pygments_lexer": "ipython3",
   "version": "3.10.17"
  }
 },
 "nbformat": 4,
 "nbformat_minor": 4
}
