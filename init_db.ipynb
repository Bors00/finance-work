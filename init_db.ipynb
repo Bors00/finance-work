{
 "cells": [
  {
   "cell_type": "markdown",
   "id": "3cb1d4a6",
   "metadata": {},
   "source": [
    "Ce notebook exécute le fichier `init_db.sql` pour créer les tables dans PostgreSQL depuis Jupyter Notebook."
   ]
  },
  {
   "cell_type": "markdown",
   "id": "092cbc5d",
   "metadata": {},
   "source": [
    "Importation des bibliothèques nécessaires"
   ]
  },
  {
   "cell_type": "code",
   "execution_count": 1,
   "id": "be2efa73",
   "metadata": {},
   "outputs": [
    {
     "name": "stdout",
     "output_type": "stream",
     "text": [
      "✅ Connexion à PostgreSQL réussie (mode md5)\n"
     ]
    }
   ],
   "source": [
    "# Ce notebook exécute le fichier `init_db.sql` pour créer les tables dans PostgreSQL depuis Jupyter Notebook.\n",
    "\n",
    "import psycopg2\n",
    "\n",
    "# Paramètres de connexion\n",
    "DB_NAME = \"stocks_db\"\n",
    "DB_USER = \"postgres\"\n",
    "DB_PASSWORD = \"postgres\"\n",
    "DB_HOST = \"db\"  # À utiliser depuis le container Jupyter, le service PostgreSQL est nommé \"db\"\n",
    "\n",
    "# Établir la connexion à PostgreSQL\n",
    "try:\n",
    "    conn = psycopg2.connect(f\"dbname={DB_NAME} user={DB_USER} password={DB_PASSWORD} host={DB_HOST}\")\n",
    "    cur = conn.cursor()\n",
    "    print(\"✅ Connexion à PostgreSQL réussie (mode md5)\")\n",
    "except Exception as e:\n",
    "    print(f\"⚠️ Erreur lors de la connexion : {e}\")\n",
    "    raise"
   ]
  },
  {
   "cell_type": "markdown",
   "id": "a0362d64",
   "metadata": {},
   "source": [
    "Lecture et exécution de `init_db.sql`"
   ]
  },
  {
   "cell_type": "code",
   "execution_count": 2,
   "id": "2cb67fcb",
   "metadata": {},
   "outputs": [
    {
     "name": "stdout",
     "output_type": "stream",
     "text": [
      "✅ Exécuté : DROP TABLE IF EXISTS stock_prices...\n",
      "✅ Exécuté : DROP TABLE IF EXISTS stocks...\n",
      "✅ Exécuté : -- Table des entreprises (stocks)\n",
      "CREATE TABLE sto...\n",
      "✅ Exécuté : -- Table des prix des actions (stock_prices)\n",
      "CREAT...\n",
      "✅ Toutes les commandes SQL ont été exécutées avec succès.\n"
     ]
    }
   ],
   "source": [
    "# Lecture et exécution de `init_db.sql`\n",
    "sql_file = \"init_db.sql\"\n",
    "\n",
    "try:\n",
    "    with open(sql_file, \"r\") as file:\n",
    "        sql_commands = file.read().split(\";\")  # Séparer chaque commande SQL\n",
    "except Exception as e:\n",
    "    print(f\"⚠️ Erreur lors de la lecture du fichier {sql_file} : {e}\")\n",
    "    raise\n",
    "\n",
    "for command in sql_commands:\n",
    "    command = command.strip()\n",
    "    if command:  # Éviter d'exécuter des lignes vides\n",
    "        try:\n",
    "            cur.execute(command)\n",
    "            print(f\"✅ Exécuté : {command[:50]}...\")\n",
    "        except Exception as e:\n",
    "            print(f\"⚠️ Erreur ignorée lors de l'exécution de la commande : {e}\")\n",
    "\n",
    "# Commit des changements\n",
    "conn.commit()\n",
    "print(\"✅ Toutes les commandes SQL ont été exécutées avec succès.\")"
   ]
  },
  {
   "cell_type": "markdown",
   "id": "f27890ad",
   "metadata": {},
   "source": [
    "Vérification des tables créées"
   ]
  },
  {
   "cell_type": "code",
   "execution_count": 3,
   "id": "c671fce6",
   "metadata": {},
   "outputs": [
    {
     "name": "stdout",
     "output_type": "stream",
     "text": [
      "📋 Tables présentes dans la base de données et leurs champs :\n",
      " - stock_prices\n",
      "     - id (integer)\n",
      "     - ticker (character varying)\n",
      "     - date (date)\n",
      "     - open (double precision)\n",
      "     - high (double precision)\n",
      "     - low (double precision)\n",
      "     - close (double precision)\n",
      "     - volume (bigint)\n",
      " - stocks\n",
      "     - ticker (character varying)\n",
      "     - longname (character varying)\n",
      "     - shortname (character varying)\n",
      "     - sector (character varying)\n",
      "     - industry (character varying)\n",
      "     - country (character varying)\n",
      "     - fulltimeemployees (integer)\n",
      "     - city (character varying)\n",
      "     - state (character varying)\n",
      "     - zip (character varying)\n",
      "     - website (character varying)\n",
      "     - phone (character varying)\n",
      "     - longbusinesssummary (text)\n",
      "     - exchange (character varying)\n",
      "     - quotetype (character varying)\n",
      "     - marketcap (bigint)\n",
      "     - enterprisevalue (bigint)\n",
      "     - forwardeps (double precision)\n",
      "     - trailingpe (double precision)\n",
      "     - dividendrate (double precision)\n",
      "     - dividendyield (double precision)\n",
      "     - beta (double precision)\n",
      "     - pricetobook (double precision)\n",
      "     - pegratio (double precision)\n",
      "     - fiftydayaverage (double precision)\n",
      "     - twohundreddayaverage (double precision)\n",
      "     - fiftytwoweekhigh (double precision)\n",
      "     - fiftytwoweeklow (double precision)\n",
      "     - 52WeekChange (double precision)\n",
      "     - sandp52weekchange (double precision)\n",
      "     - sharesoutstanding (bigint)\n",
      "     - floatshares (bigint)\n",
      "     - bookvalue (double precision)\n",
      "     - exdividenddate (date)\n",
      "     - earningstimestamp (bigint)\n",
      "     - earningsquarterlygrowth (double precision)\n",
      "     - revenuequarterlygrowth (double precision)\n",
      "     - lastfiscalyearend (date)\n",
      "     - nextfiscalyearend (date)\n",
      "     - mostrecentquarter (date)\n",
      "     - shortratio (double precision)\n",
      "     - sharesshort (bigint)\n",
      "     - sharespercentsharesout (double precision)\n",
      "     - pricehint (integer)\n",
      "     - regularmarketopen (double precision)\n",
      "     - regularmarketdayhigh (double precision)\n",
      "     - regularmarketdaylow (double precision)\n",
      "     - regularmarketvolume (bigint)\n",
      "     - open (double precision)\n",
      "     - high (double precision)\n",
      "     - low (double precision)\n",
      "     - close (double precision)\n",
      "     - volume (bigint)\n",
      "     - indice (character varying)\n",
      "     - historical_start (date)\n",
      "     - historical_end (date)\n"
     ]
    }
   ],
   "source": [
    "# Vérification des tables créées et de leurs champs (colonnes)\n",
    "cur.execute(\"SELECT table_name FROM information_schema.tables WHERE table_schema = 'public';\")\n",
    "tables = cur.fetchall()\n",
    "\n",
    "print(\"📋 Tables présentes dans la base de données et leurs champs :\")\n",
    "for table in tables:\n",
    "    table_name = table[0]\n",
    "    print(f\" - {table_name}\")\n",
    "    # Récupérer les colonnes de la table en cours\n",
    "    cur.execute(\n",
    "        \"SELECT column_name, data_type FROM information_schema.columns WHERE table_name = %s;\",\n",
    "        (table_name,)\n",
    "    )\n",
    "    columns = cur.fetchall()\n",
    "    for column in columns:\n",
    "         print(f\"     - {column[0]} ({column[1]})\")"
   ]
  },
  {
   "cell_type": "markdown",
   "id": "a1f873c6",
   "metadata": {},
   "source": [
    "Fermeture de la connexion"
   ]
  },
  {
   "cell_type": "code",
   "execution_count": 4,
   "id": "a80bbd46",
   "metadata": {},
   "outputs": [
    {
     "name": "stdout",
     "output_type": "stream",
     "text": [
      "✅ Connexion fermée\n"
     ]
    }
   ],
   "source": [
    "# Fermeture de la connexion\n",
    "cur.close()\n",
    "conn.close()\n",
    "print(\"✅ Connexion fermée\")"
   ]
  },
  {
   "cell_type": "code",
   "execution_count": 5,
   "id": "2fff14de",
   "metadata": {},
   "outputs": [
    {
     "name": "stdout",
     "output_type": "stream",
     "text": [
      "La base de données 'user_db' a été créée avec succès !\n",
      "La table 'users' a été créée (ou existe déjà) dans 'user_db'!\n"
     ]
    }
   ],
   "source": [
    "import psycopg2\n",
    "from psycopg2.extensions import ISOLATION_LEVEL_AUTOCOMMIT\n",
    "\n",
    "# Paramètres de connexion à la base \"postgres\" (base de maintenance)\n",
    "db_params = {\n",
    "    \"host\": \"db\",\n",
    "    \"database\": \"postgres\",\n",
    "    \"user\": \"postgres\",\n",
    "    \"password\": \"postgres\"\n",
    "}\n",
    "\n",
    "DB_NAME = \"user_db\"\n",
    "\n",
    "def database_exists(cursor, db_name):\n",
    "    cursor.execute(\"SELECT 1 FROM pg_database WHERE datname = %s\", (db_name,))\n",
    "    return cursor.fetchone() is not None\n",
    "\n",
    "try:\n",
    "    connection = psycopg2.connect(**db_params)\n",
    "    connection.set_isolation_level(ISOLATION_LEVEL_AUTOCOMMIT)\n",
    "    cursor = connection.cursor()\n",
    "\n",
    "    if not database_exists(cursor, DB_NAME):\n",
    "        cursor.execute(f\"CREATE DATABASE {DB_NAME};\")\n",
    "        print(f\"La base de données '{DB_NAME}' a été créée avec succès !\")\n",
    "    else:\n",
    "        print(f\"La base de données '{DB_NAME}' existe déjà, pas de création nécessaire.\")\n",
    "except Exception as error:\n",
    "    print(f\"Erreur lors de la création de la base de données '{DB_NAME}':\", error)\n",
    "finally:\n",
    "    if 'cursor' in locals():\n",
    "        cursor.close()\n",
    "    if 'connection' in locals():\n",
    "        connection.close()\n",
    "\n",
    "\n",
    "# --- Création de la table \"users\" ---\n",
    "try:\n",
    "    # Connexion directement sur la base \"user_db\"\n",
    "    db_params_user = db_params.copy()\n",
    "    db_params_user[\"database\"] = DB_NAME\n",
    "\n",
    "    connection = psycopg2.connect(**db_params_user)\n",
    "    cursor = connection.cursor()\n",
    "\n",
    "    cursor.execute(\n",
    "        \"\"\"\n",
    "        CREATE TABLE IF NOT EXISTS users (\n",
    "            id SERIAL PRIMARY KEY,\n",
    "            username VARCHAR(255) NOT NULL UNIQUE,\n",
    "            email VARCHAR(255) NOT NULL UNIQUE,\n",
    "            password VARCHAR(255) NOT NULL\n",
    "        );\n",
    "        \"\"\"\n",
    "    )\n",
    "    connection.commit()\n",
    "    print(\"La table 'users' a été créée (ou existe déjà) dans 'user_db'!\")\n",
    "except Exception as error:\n",
    "    print(\"Erreur lors de la création de la table 'users' :\", error)\n",
    "finally:\n",
    "    if 'cursor' in locals():\n",
    "        cursor.close()\n",
    "    if 'connection' in locals():\n",
    "        connection.close()\n"
   ]
  }
 ],
 "metadata": {
  "kernelspec": {
   "display_name": "Python 3 (ipykernel)",
   "language": "python",
   "name": "python3"
  },
  "language_info": {
   "codemirror_mode": {
    "name": "ipython",
    "version": 3
   },
   "file_extension": ".py",
   "mimetype": "text/x-python",
   "name": "python",
   "nbconvert_exporter": "python",
   "pygments_lexer": "ipython3",
   "version": "3.10.16"
  }
 },
 "nbformat": 4,
 "nbformat_minor": 5
}
